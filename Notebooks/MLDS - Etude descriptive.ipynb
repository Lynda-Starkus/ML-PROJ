{
 "cells": [
  {
   "cell_type": "code",
   "execution_count": 1,
   "id": "46f40cf9",
   "metadata": {},
   "outputs": [
    {
     "name": "stdout",
     "output_type": "stream",
     "text": [
      "Collecting pandas-profiling\n",
      "  Using cached pandas_profiling-3.6.6-py2.py3-none-any.whl (324 kB)\n",
      "Collecting ydata-profiling\n",
      "  Using cached ydata_profiling-4.6.0-py2.py3-none-any.whl (357 kB)\n",
      "Requirement already satisfied: PyYAML<6.1,>=5.0.0 in c:\\users\\il_be\\appdata\\local\\programs\\python\\python39\\lib\\site-packages (from ydata-profiling->pandas-profiling) (5.4.1)\n",
      "Collecting seaborn<0.13,>=0.10.1\n",
      "  Using cached seaborn-0.12.2-py3-none-any.whl (293 kB)\n",
      "Collecting phik<0.13,>=0.11.1\n",
      "  Using cached phik-0.12.3-cp39-cp39-win_amd64.whl (663 kB)\n",
      "Collecting visions[type_image_path]==0.7.5\n",
      "  Using cached visions-0.7.5-py3-none-any.whl (102 kB)\n",
      "Requirement already satisfied: pydantic<2,>=1.8.1 in c:\\users\\il_be\\appdata\\local\\programs\\python\\python39\\lib\\site-packages (from ydata-profiling->pandas-profiling) (1.10.4)\n",
      "Collecting dacite>=1.8\n",
      "  Using cached dacite-1.8.1-py3-none-any.whl (14 kB)\n",
      "Requirement already satisfied: pandas!=1.4.0,<2.1,>1.1 in c:\\users\\il_be\\appdata\\local\\programs\\python\\python39\\lib\\site-packages (from ydata-profiling->pandas-profiling) (1.5.3)\n",
      "Requirement already satisfied: numpy<1.26,>=1.16.0 in c:\\users\\il_be\\appdata\\local\\programs\\python\\python39\\lib\\site-packages (from ydata-profiling->pandas-profiling) (1.22.3)\n",
      "Collecting imagehash==4.3.1\n",
      "  Using cached ImageHash-4.3.1-py2.py3-none-any.whl (296 kB)\n",
      "Requirement already satisfied: tqdm<5,>=4.48.2 in c:\\users\\il_be\\appdata\\local\\programs\\python\\python39\\lib\\site-packages (from ydata-profiling->pandas-profiling) (4.64.1)\n",
      "Requirement already satisfied: statsmodels<1,>=0.13.2 in c:\\users\\il_be\\appdata\\local\\programs\\python\\python39\\lib\\site-packages (from ydata-profiling->pandas-profiling) (0.13.5)\n",
      "Requirement already satisfied: numba<0.59.0,>=0.56.0 in c:\\users\\il_be\\appdata\\local\\programs\\python\\python39\\lib\\site-packages (from ydata-profiling->pandas-profiling) (0.56.4)\n",
      "Requirement already satisfied: requests<3,>=2.24.0 in c:\\users\\il_be\\appdata\\local\\programs\\python\\python39\\lib\\site-packages (from ydata-profiling->pandas-profiling) (2.27.1)\n",
      "Requirement already satisfied: htmlmin==0.1.12 in c:\\users\\il_be\\appdata\\local\\programs\\python\\python39\\lib\\site-packages (from ydata-profiling->pandas-profiling) (0.1.12)\n",
      "Requirement already satisfied: scipy<1.12,>=1.4.1 in c:\\users\\il_be\\appdata\\local\\programs\\python\\python39\\lib\\site-packages (from ydata-profiling->pandas-profiling) (1.8.1)\n",
      "Collecting wordcloud>=1.9.1\n",
      "  Using cached wordcloud-1.9.2-cp39-cp39-win_amd64.whl (153 kB)\n",
      "Requirement already satisfied: matplotlib<=3.7.3,>=3.2 in c:\\users\\il_be\\appdata\\local\\programs\\python\\python39\\lib\\site-packages (from ydata-profiling->pandas-profiling) (3.5.1)\n",
      "Requirement already satisfied: jinja2<3.2,>=2.11.1 in c:\\users\\il_be\\appdata\\local\\programs\\python\\python39\\lib\\site-packages (from ydata-profiling->pandas-profiling) (3.0.3)\n",
      "Collecting multimethod<2,>=1.4\n",
      "  Using cached multimethod-1.10-py3-none-any.whl (9.9 kB)\n",
      "Collecting typeguard<5,>=4.1.2\n",
      "  Using cached typeguard-4.1.5-py3-none-any.whl (34 kB)\n",
      "Requirement already satisfied: PyWavelets in c:\\users\\il_be\\appdata\\local\\programs\\python\\python39\\lib\\site-packages (from imagehash==4.3.1->ydata-profiling->pandas-profiling) (1.4.1)\n",
      "Requirement already satisfied: pillow in c:\\users\\il_be\\appdata\\local\\programs\\python\\python39\\lib\\site-packages (from imagehash==4.3.1->ydata-profiling->pandas-profiling) (9.0.1)\n",
      "Requirement already satisfied: networkx>=2.4 in c:\\users\\il_be\\appdata\\local\\programs\\python\\python39\\lib\\site-packages (from visions[type_image_path]==0.7.5->ydata-profiling->pandas-profiling) (3.1)\n",
      "Requirement already satisfied: attrs>=19.3.0 in c:\\users\\il_be\\appdata\\local\\programs\\python\\python39\\lib\\site-packages (from visions[type_image_path]==0.7.5->ydata-profiling->pandas-profiling) (21.4.0)\n",
      "Requirement already satisfied: tangled-up-in-unicode>=0.0.4 in c:\\users\\il_be\\appdata\\local\\programs\\python\\python39\\lib\\site-packages (from visions[type_image_path]==0.7.5->ydata-profiling->pandas-profiling) (0.2.0)\n",
      "Requirement already satisfied: MarkupSafe>=2.0 in c:\\users\\il_be\\appdata\\local\\programs\\python\\python39\\lib\\site-packages (from jinja2<3.2,>=2.11.1->ydata-profiling->pandas-profiling) (2.1.1)\n",
      "Requirement already satisfied: cycler>=0.10 in c:\\users\\il_be\\appdata\\local\\programs\\python\\python39\\lib\\site-packages (from matplotlib<=3.7.3,>=3.2->ydata-profiling->pandas-profiling) (0.11.0)\n",
      "Requirement already satisfied: python-dateutil>=2.7 in c:\\users\\il_be\\appdata\\roaming\\python\\python39\\site-packages (from matplotlib<=3.7.3,>=3.2->ydata-profiling->pandas-profiling) (2.8.2)\n",
      "Requirement already satisfied: fonttools>=4.22.0 in c:\\users\\il_be\\appdata\\local\\programs\\python\\python39\\lib\\site-packages (from matplotlib<=3.7.3,>=3.2->ydata-profiling->pandas-profiling) (4.30.0)\n",
      "Requirement already satisfied: pyparsing>=2.2.1 in c:\\users\\il_be\\appdata\\local\\programs\\python\\python39\\lib\\site-packages (from matplotlib<=3.7.3,>=3.2->ydata-profiling->pandas-profiling) (3.0.7)\n",
      "Requirement already satisfied: kiwisolver>=1.0.1 in c:\\users\\il_be\\appdata\\local\\programs\\python\\python39\\lib\\site-packages (from matplotlib<=3.7.3,>=3.2->ydata-profiling->pandas-profiling) (1.4.0)\n",
      "Requirement already satisfied: packaging>=20.0 in c:\\users\\il_be\\appdata\\roaming\\python\\python39\\site-packages (from matplotlib<=3.7.3,>=3.2->ydata-profiling->pandas-profiling) (23.0)\n",
      "Requirement already satisfied: setuptools in c:\\users\\il_be\\appdata\\local\\programs\\python\\python39\\lib\\site-packages (from numba<0.59.0,>=0.56.0->ydata-profiling->pandas-profiling) (58.1.0)\n",
      "Requirement already satisfied: llvmlite<0.40,>=0.39.0dev0 in c:\\users\\il_be\\appdata\\local\\programs\\python\\python39\\lib\\site-packages (from numba<0.59.0,>=0.56.0->ydata-profiling->pandas-profiling) (0.39.1)\n",
      "Requirement already satisfied: pytz>=2020.1 in c:\\users\\il_be\\appdata\\local\\programs\\python\\python39\\lib\\site-packages (from pandas!=1.4.0,<2.1,>1.1->ydata-profiling->pandas-profiling) (2022.7.1)\n",
      "Requirement already satisfied: joblib>=0.14.1 in c:\\users\\il_be\\appdata\\local\\programs\\python\\python39\\lib\\site-packages (from phik<0.13,>=0.11.1->ydata-profiling->pandas-profiling) (1.2.0)\n",
      "Requirement already satisfied: typing-extensions>=4.2.0 in c:\\users\\il_be\\appdata\\local\\programs\\python\\python39\\lib\\site-packages (from pydantic<2,>=1.8.1->ydata-profiling->pandas-profiling) (4.8.0)\n",
      "Requirement already satisfied: urllib3<1.27,>=1.21.1 in c:\\users\\il_be\\appdata\\local\\programs\\python\\python39\\lib\\site-packages (from requests<3,>=2.24.0->ydata-profiling->pandas-profiling) (1.26.9)\n",
      "Requirement already satisfied: certifi>=2017.4.17 in c:\\users\\il_be\\appdata\\local\\programs\\python\\python39\\lib\\site-packages (from requests<3,>=2.24.0->ydata-profiling->pandas-profiling) (2021.10.8)\n",
      "Requirement already satisfied: charset-normalizer~=2.0.0 in c:\\users\\il_be\\appdata\\local\\programs\\python\\python39\\lib\\site-packages (from requests<3,>=2.24.0->ydata-profiling->pandas-profiling) (2.0.12)\n",
      "Requirement already satisfied: idna<4,>=2.5 in c:\\users\\il_be\\appdata\\local\\programs\\python\\python39\\lib\\site-packages (from requests<3,>=2.24.0->ydata-profiling->pandas-profiling) (3.3)\n",
      "Requirement already satisfied: patsy>=0.5.2 in c:\\users\\il_be\\appdata\\local\\programs\\python\\python39\\lib\\site-packages (from statsmodels<1,>=0.13.2->ydata-profiling->pandas-profiling) (0.5.3)\n",
      "Requirement already satisfied: colorama in c:\\users\\il_be\\appdata\\roaming\\python\\python39\\site-packages (from tqdm<5,>=4.48.2->ydata-profiling->pandas-profiling) (0.4.6)\n",
      "Requirement already satisfied: importlib-metadata>=3.6 in c:\\users\\il_be\\appdata\\local\\programs\\python\\python39\\lib\\site-packages (from typeguard<5,>=4.1.2->ydata-profiling->pandas-profiling) (4.13.0)\n",
      "Requirement already satisfied: zipp>=0.5 in c:\\users\\il_be\\appdata\\roaming\\python\\python39\\site-packages (from importlib-metadata>=3.6->typeguard<5,>=4.1.2->ydata-profiling->pandas-profiling) (3.12.1)\n",
      "Requirement already satisfied: six in c:\\users\\il_be\\appdata\\roaming\\python\\python39\\site-packages (from patsy>=0.5.2->statsmodels<1,>=0.13.2->ydata-profiling->pandas-profiling) (1.16.0)\n",
      "Installing collected packages: multimethod, dacite, typeguard, imagehash, wordcloud, visions, seaborn, phik, ydata-profiling, pandas-profiling\n",
      "Successfully installed dacite-1.8.1 imagehash-4.3.1 multimethod-1.10 pandas-profiling-3.6.6 phik-0.12.3 seaborn-0.12.2 typeguard-4.1.5 visions-0.7.5 wordcloud-1.9.2 ydata-profiling-4.6.0\n"
     ]
    },
    {
     "name": "stderr",
     "output_type": "stream",
     "text": [
      "\n",
      "[notice] A new release of pip is available: 23.0 -> 23.2.1\n",
      "[notice] To update, run: C:\\Users\\il_be\\AppData\\Local\\Programs\\Python\\Python39\\python.exe -m pip install --upgrade pip\n"
     ]
    }
   ],
   "source": [
    "#Configuring notbook to render HTML for pandas-profiling\n",
    "!pip install pandas-profiling\n",
    "#Restart Kernel here"
   ]
  },
  {
   "cell_type": "code",
   "execution_count": 2,
   "id": "31f13efd",
   "metadata": {},
   "outputs": [],
   "source": [
    "#Get dataset from Drive\n",
    "dataset_path = '../dataset/tornados.csv'"
   ]
  },
  {
   "cell_type": "code",
   "execution_count": 3,
   "id": "c6f0baea",
   "metadata": {},
   "outputs": [
    {
     "name": "stderr",
     "output_type": "stream",
     "text": [
      "C:\\Users\\il_be\\AppData\\Local\\Temp\\ipykernel_21268\\3034448462.py:2: DeprecationWarning: `import pandas_profiling` is going to be deprecated by April 1st. Please use `import ydata_profiling` instead.\n",
      "  from pandas_profiling import ProfileReport\n"
     ]
    }
   ],
   "source": [
    "import pandas as pd\n",
    "from pandas_profiling import ProfileReport"
   ]
  },
  {
   "cell_type": "code",
   "execution_count": 4,
   "id": "a3fd44dd",
   "metadata": {},
   "outputs": [
    {
     "name": "stdout",
     "output_type": "stream",
     "text": [
      "Shape of tornados data =  (68693, 27)\n",
      "<class 'pandas.core.frame.DataFrame'>\n",
      "RangeIndex: 68693 entries, 0 to 68692\n",
      "Data columns (total 27 columns):\n",
      " #   Column        Non-Null Count  Dtype  \n",
      "---  ------        --------------  -----  \n",
      " 0   om            68693 non-null  int64  \n",
      " 1   yr            68693 non-null  int64  \n",
      " 2   mo            68693 non-null  int64  \n",
      " 3   dy            68693 non-null  int64  \n",
      " 4   date          68693 non-null  object \n",
      " 5   time          68693 non-null  object \n",
      " 6   tz            68693 non-null  object \n",
      " 7   datetime_utc  68693 non-null  object \n",
      " 8   st            68693 non-null  object \n",
      " 9   stf           68693 non-null  int64  \n",
      " 10  mag           67937 non-null  float64\n",
      " 11  inj           68693 non-null  int64  \n",
      " 12  fat           68693 non-null  int64  \n",
      " 13  loss          41523 non-null  float64\n",
      " 14  slat          68693 non-null  float64\n",
      " 15  slon          68693 non-null  float64\n",
      " 16  elat          68693 non-null  float64\n",
      " 17  elon          68693 non-null  float64\n",
      " 18  len           68693 non-null  float64\n",
      " 19  wid           68693 non-null  int64  \n",
      " 20  ns            68693 non-null  int64  \n",
      " 21  sn            68693 non-null  int64  \n",
      " 22  f1            68693 non-null  int64  \n",
      " 23  f2            68693 non-null  int64  \n",
      " 24  f3            68693 non-null  int64  \n",
      " 25  f4            68693 non-null  int64  \n",
      " 26  fc            68693 non-null  bool   \n",
      "dtypes: bool(1), float64(7), int64(14), object(5)\n",
      "memory usage: 13.7+ MB\n",
      "Count of unique values in om = \n",
      " 6         55\n",
      "39        55\n",
      "25        55\n",
      "36        54\n",
      "38        54\n",
      "          ..\n",
      "515614     1\n",
      "508268     1\n",
      "508155     1\n",
      "508149     1\n",
      "621900     1\n",
      "Name: om, Length: 8876, dtype: int64\n",
      "-----------------------------------\n",
      "Range of values for \"om\" [min =  1  - max =  622080 ]\n"
     ]
    },
    {
     "data": {
      "text/html": [
       "<div>\n",
       "<style scoped>\n",
       "    .dataframe tbody tr th:only-of-type {\n",
       "        vertical-align: middle;\n",
       "    }\n",
       "\n",
       "    .dataframe tbody tr th {\n",
       "        vertical-align: top;\n",
       "    }\n",
       "\n",
       "    .dataframe thead th {\n",
       "        text-align: right;\n",
       "    }\n",
       "</style>\n",
       "<table border=\"1\" class=\"dataframe\">\n",
       "  <thead>\n",
       "    <tr style=\"text-align: right;\">\n",
       "      <th></th>\n",
       "      <th>mag</th>\n",
       "      <th>fat</th>\n",
       "      <th>inj</th>\n",
       "      <th>loss</th>\n",
       "    </tr>\n",
       "  </thead>\n",
       "  <tbody>\n",
       "    <tr>\n",
       "      <th>count</th>\n",
       "      <td>41517.000000</td>\n",
       "      <td>41517.000000</td>\n",
       "      <td>41517.000000</td>\n",
       "      <td>4.151700e+04</td>\n",
       "    </tr>\n",
       "    <tr>\n",
       "      <th>mean</th>\n",
       "      <td>1.069201</td>\n",
       "      <td>0.136233</td>\n",
       "      <td>2.178626</td>\n",
       "      <td>2.021189e+06</td>\n",
       "    </tr>\n",
       "    <tr>\n",
       "      <th>std</th>\n",
       "      <td>0.916341</td>\n",
       "      <td>1.851997</td>\n",
       "      <td>22.786930</td>\n",
       "      <td>3.039807e+07</td>\n",
       "    </tr>\n",
       "    <tr>\n",
       "      <th>min</th>\n",
       "      <td>0.000000</td>\n",
       "      <td>0.000000</td>\n",
       "      <td>0.000000</td>\n",
       "      <td>5.000000e+01</td>\n",
       "    </tr>\n",
       "    <tr>\n",
       "      <th>25%</th>\n",
       "      <td>0.000000</td>\n",
       "      <td>0.000000</td>\n",
       "      <td>0.000000</td>\n",
       "      <td>1.000000e+04</td>\n",
       "    </tr>\n",
       "    <tr>\n",
       "      <th>50%</th>\n",
       "      <td>1.000000</td>\n",
       "      <td>0.000000</td>\n",
       "      <td>0.000000</td>\n",
       "      <td>5.000000e+04</td>\n",
       "    </tr>\n",
       "    <tr>\n",
       "      <th>75%</th>\n",
       "      <td>2.000000</td>\n",
       "      <td>0.000000</td>\n",
       "      <td>0.000000</td>\n",
       "      <td>5.000000e+05</td>\n",
       "    </tr>\n",
       "    <tr>\n",
       "      <th>max</th>\n",
       "      <td>5.000000</td>\n",
       "      <td>158.000000</td>\n",
       "      <td>1740.000000</td>\n",
       "      <td>2.800100e+09</td>\n",
       "    </tr>\n",
       "  </tbody>\n",
       "</table>\n",
       "</div>"
      ],
      "text/plain": [
       "                mag           fat           inj          loss\n",
       "count  41517.000000  41517.000000  41517.000000  4.151700e+04\n",
       "mean       1.069201      0.136233      2.178626  2.021189e+06\n",
       "std        0.916341      1.851997     22.786930  3.039807e+07\n",
       "min        0.000000      0.000000      0.000000  5.000000e+01\n",
       "25%        0.000000      0.000000      0.000000  1.000000e+04\n",
       "50%        1.000000      0.000000      0.000000  5.000000e+04\n",
       "75%        2.000000      0.000000      0.000000  5.000000e+05\n",
       "max        5.000000    158.000000   1740.000000  2.800100e+09"
      ]
     },
     "execution_count": 4,
     "metadata": {},
     "output_type": "execute_result"
    }
   ],
   "source": [
    "#Loading the dataset\n",
    "dataset = pd.read_csv(dataset_path)\n",
    "\n",
    "print('Shape of tornados data = ', dataset.shape)\n",
    "dataset.head()\n",
    "\n",
    "dataset.info()\n",
    "\n",
    "dataset.describe().T\n",
    "\n",
    "dataset.isnull().sum()\n",
    "\n",
    "# Drop rows with missing values\n",
    "dataset.dropna(inplace=True)\n",
    "\n",
    "print('Count of unique values in om = \\n', dataset['om'].value_counts())\n",
    "print('-----------------------------------')\n",
    "print('Range of values for \"om\" [min = ', dataset['om'].min(), ' - max = ', dataset['om'].max(), ']')\n",
    "dataset[['time','mag', 'fat', 'inj', 'loss']].describe()"
   ]
  },
  {
   "cell_type": "code",
   "execution_count": 7,
   "id": "ffbc6806",
   "metadata": {},
   "outputs": [],
   "source": [
    "#Generate full profiling\n",
    "profile = ProfileReport(dataset, title='Tornados', html={'style':{'full_width':True}})"
   ]
  },
  {
   "cell_type": "code",
   "execution_count": null,
   "id": "d3310609",
   "metadata": {},
   "outputs": [
    {
     "data": {
      "application/vnd.jupyter.widget-view+json": {
       "model_id": "501f60dd838842978a483dedd5be0855",
       "version_major": 2,
       "version_minor": 0
      },
      "text/plain": [
       "Summarize dataset:   0%|          | 0/5 [00:00<?, ?it/s]"
      ]
     },
     "metadata": {},
     "output_type": "display_data"
    }
   ],
   "source": [
    "profile.to_notebook_iframe()"
   ]
  },
  {
   "cell_type": "code",
   "execution_count": null,
   "id": "39cade93",
   "metadata": {},
   "outputs": [],
   "source": []
  }
 ],
 "metadata": {
  "kernelspec": {
   "display_name": "Python 3 (ipykernel)",
   "language": "python",
   "name": "python3"
  },
  "language_info": {
   "codemirror_mode": {
    "name": "ipython",
    "version": 3
   },
   "file_extension": ".py",
   "mimetype": "text/x-python",
   "name": "python",
   "nbconvert_exporter": "python",
   "pygments_lexer": "ipython3",
   "version": "3.9.16"
  }
 },
 "nbformat": 4,
 "nbformat_minor": 5
}
